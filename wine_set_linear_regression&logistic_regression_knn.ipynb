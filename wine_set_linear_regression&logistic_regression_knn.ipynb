{
 "cells": [
  {
   "cell_type": "code",
   "execution_count": 3,
   "id": "3d7eadf1",
   "metadata": {},
   "outputs": [],
   "source": [
    "import numpy as np\n",
    "import matplotlib.pyplot as plt\n",
    "import pandas as pd\n",
    "import seaborn as sns\n",
    "from sklearn.neighbors import KNeighborsClassifier\n",
    "from sklearn.model_selection import train_test_split\n",
    "from sklearn.preprocessing import StandardScaler\n",
    "from sklearn.model_selection import train_test_split\n",
    "from sklearn.preprocessing import StandardScaler\n",
    "from sklearn.linear_model import LogisticRegression\n",
    "from sklearn.metrics import accuracy_score\n",
    "%matplotlib inline"
   ]
  },
  {
   "cell_type": "code",
   "execution_count": 4,
   "id": "8eb92098",
   "metadata": {},
   "outputs": [],
   "source": [
    "#wine_data = pd.read_csv('D:\\\\assets\\\\temp\\\\winequality-red.csv')\n",
    "#x = wine_stats.iloc[:, :-1].values\n",
    "#y = wine_stats.iloc[:, -1].values\n",
    "wine_data = pd.read_csv('https://raw.githubusercontent.com/hcpwr/wine_dataset/main/winequality-red.csv')\n",
    "X = wine_data.iloc[:,:-1].values\n",
    "y = wine_data.iloc[:,-1].values"
   ]
  },
  {
   "cell_type": "code",
   "execution_count": 5,
   "id": "f09724af",
   "metadata": {},
   "outputs": [
    {
     "data": {
      "text/html": [
       "<div>\n",
       "<style scoped>\n",
       "    .dataframe tbody tr th:only-of-type {\n",
       "        vertical-align: middle;\n",
       "    }\n",
       "\n",
       "    .dataframe tbody tr th {\n",
       "        vertical-align: top;\n",
       "    }\n",
       "\n",
       "    .dataframe thead th {\n",
       "        text-align: right;\n",
       "    }\n",
       "</style>\n",
       "<table border=\"1\" class=\"dataframe\">\n",
       "  <thead>\n",
       "    <tr style=\"text-align: right;\">\n",
       "      <th></th>\n",
       "      <th>fixed_acidity</th>\n",
       "      <th>volatile_acidity</th>\n",
       "      <th>citric_acid</th>\n",
       "      <th>residual_sugar</th>\n",
       "      <th>chlorides</th>\n",
       "      <th>free_sulfur_dioxide</th>\n",
       "      <th>total_sulfur_dioxide</th>\n",
       "      <th>density</th>\n",
       "      <th>pH</th>\n",
       "      <th>sulphates</th>\n",
       "      <th>alcohol</th>\n",
       "      <th>quality</th>\n",
       "    </tr>\n",
       "  </thead>\n",
       "  <tbody>\n",
       "    <tr>\n",
       "      <th>0</th>\n",
       "      <td>7.4</td>\n",
       "      <td>0.70</td>\n",
       "      <td>0.00</td>\n",
       "      <td>1.9</td>\n",
       "      <td>0.076</td>\n",
       "      <td>11.0</td>\n",
       "      <td>34.0</td>\n",
       "      <td>0.9978</td>\n",
       "      <td>3.51</td>\n",
       "      <td>0.56</td>\n",
       "      <td>9.4</td>\n",
       "      <td>5</td>\n",
       "    </tr>\n",
       "    <tr>\n",
       "      <th>1</th>\n",
       "      <td>7.8</td>\n",
       "      <td>0.88</td>\n",
       "      <td>0.00</td>\n",
       "      <td>2.6</td>\n",
       "      <td>0.098</td>\n",
       "      <td>25.0</td>\n",
       "      <td>67.0</td>\n",
       "      <td>0.9968</td>\n",
       "      <td>3.20</td>\n",
       "      <td>0.68</td>\n",
       "      <td>9.8</td>\n",
       "      <td>5</td>\n",
       "    </tr>\n",
       "    <tr>\n",
       "      <th>2</th>\n",
       "      <td>7.8</td>\n",
       "      <td>0.76</td>\n",
       "      <td>0.04</td>\n",
       "      <td>2.3</td>\n",
       "      <td>0.092</td>\n",
       "      <td>15.0</td>\n",
       "      <td>54.0</td>\n",
       "      <td>0.9970</td>\n",
       "      <td>3.26</td>\n",
       "      <td>0.65</td>\n",
       "      <td>9.8</td>\n",
       "      <td>5</td>\n",
       "    </tr>\n",
       "    <tr>\n",
       "      <th>3</th>\n",
       "      <td>11.2</td>\n",
       "      <td>0.28</td>\n",
       "      <td>0.56</td>\n",
       "      <td>1.9</td>\n",
       "      <td>0.075</td>\n",
       "      <td>17.0</td>\n",
       "      <td>60.0</td>\n",
       "      <td>0.9980</td>\n",
       "      <td>3.16</td>\n",
       "      <td>0.58</td>\n",
       "      <td>9.8</td>\n",
       "      <td>6</td>\n",
       "    </tr>\n",
       "    <tr>\n",
       "      <th>4</th>\n",
       "      <td>7.4</td>\n",
       "      <td>0.70</td>\n",
       "      <td>0.00</td>\n",
       "      <td>1.9</td>\n",
       "      <td>0.076</td>\n",
       "      <td>11.0</td>\n",
       "      <td>34.0</td>\n",
       "      <td>0.9978</td>\n",
       "      <td>3.51</td>\n",
       "      <td>0.56</td>\n",
       "      <td>9.4</td>\n",
       "      <td>5</td>\n",
       "    </tr>\n",
       "  </tbody>\n",
       "</table>\n",
       "</div>"
      ],
      "text/plain": [
       "   fixed_acidity  volatile_acidity  citric_acid  residual_sugar  chlorides  \\\n",
       "0            7.4              0.70         0.00             1.9      0.076   \n",
       "1            7.8              0.88         0.00             2.6      0.098   \n",
       "2            7.8              0.76         0.04             2.3      0.092   \n",
       "3           11.2              0.28         0.56             1.9      0.075   \n",
       "4            7.4              0.70         0.00             1.9      0.076   \n",
       "\n",
       "   free_sulfur_dioxide  total_sulfur_dioxide  density    pH  sulphates  \\\n",
       "0                 11.0                  34.0   0.9978  3.51       0.56   \n",
       "1                 25.0                  67.0   0.9968  3.20       0.68   \n",
       "2                 15.0                  54.0   0.9970  3.26       0.65   \n",
       "3                 17.0                  60.0   0.9980  3.16       0.58   \n",
       "4                 11.0                  34.0   0.9978  3.51       0.56   \n",
       "\n",
       "   alcohol  quality  \n",
       "0      9.4        5  \n",
       "1      9.8        5  \n",
       "2      9.8        5  \n",
       "3      9.8        6  \n",
       "4      9.4        5  "
      ]
     },
     "execution_count": 5,
     "metadata": {},
     "output_type": "execute_result"
    }
   ],
   "source": [
    "wine_data.head()"
   ]
  },
  {
   "cell_type": "code",
   "execution_count": 6,
   "id": "2ad7daee",
   "metadata": {},
   "outputs": [
    {
     "data": {
      "text/plain": [
       "<AxesSubplot:>"
      ]
     },
     "execution_count": 6,
     "metadata": {},
     "output_type": "execute_result"
    },
    {
     "data": {
      "image/png": "[encoded data removed]",
      "text/plain": [
       "<Figure size 640x480 with 2 Axes>"
      ]
     },
     "metadata": {},
     "output_type": "display_data"
    }
   ],
   "source": [
    "sns.heatmap(wine_data.corr())"
   ]
  },
  {
   "cell_type": "code",
   "execution_count": 7,
   "id": "afe7452d",
   "metadata": {
    "scrolled": true
   },
   "outputs": [],
   "source": [
    "X_train, X_test, y_train, y_test = train_test_split(X, y, test_size = 0.2, random_state = 40)"
   ]
  },
  {
   "cell_type": "code",
   "execution_count": 8,
   "id": "e6a05274",
   "metadata": {},
   "outputs": [
    {
     "data": {
      "text/plain": [
       "LinearRegression()"
      ]
     },
     "execution_count": 8,
     "metadata": {},
     "output_type": "execute_result"
    }
   ],
   "source": [
    "from sklearn.linear_model import LinearRegression\n",
    "model = LinearRegression()\n",
    "model.fit(X_train, y_train)"
   ]
  },
  {
   "cell_type": "code",
   "execution_count": 9,
   "id": "a7774894",
   "metadata": {},
   "outputs": [
    {
     "data": {
      "text/plain": [
       "array([5.97751296, 5.21281463, 5.69691905, 6.37317677, 5.58008105,\n",
       "       5.48337242, 5.7432569 , 6.40020606, 5.29331222, 5.48048552,\n",
       "       5.83435203, 5.66581677, 6.12753086, 6.62703942, 5.25984497,\n",
       "       6.209118  , 5.83465586, 4.84794634, 5.36646949, 5.13044843,\n",
       "       5.17652803, 5.51946744, 5.03371999, 5.43955924, 6.55085054,\n",
       "       5.35970358, 5.82816034, 5.25936555, 5.84725097, 5.371452  ,\n",
       "       5.29023222, 5.55137281, 5.29417263, 5.11677105, 5.12190603,\n",
       "       5.56259519, 6.69769539, 5.01863612, 5.60806605, 5.74607154,\n",
       "       5.27094904, 5.71848435, 5.10925922, 5.83913012, 6.13965603,\n",
       "       5.17787859, 5.77693335, 6.19608418, 6.61550566, 5.09932673,\n",
       "       6.40020606, 5.25292609, 4.94054864, 6.02555288, 6.07756061,\n",
       "       5.07144153, 5.69284514, 5.66524378, 5.96724117, 5.32509552,\n",
       "       5.89724736, 5.18343205, 5.61877085, 6.42350365, 5.62736033,\n",
       "       5.36435368, 4.99077655, 5.6251994 , 6.23627693, 6.32539853,\n",
       "       5.31159291, 5.20596295, 5.18800136, 6.31179876, 6.04145832,\n",
       "       5.06516142, 5.15367544, 5.54630124, 5.74632028, 6.45531727,\n",
       "       5.81519865, 6.13196341, 5.92048251, 5.34343051, 5.90555293,\n",
       "       4.98795848, 5.92881486, 5.06970982, 5.71175563, 5.13132149,\n",
       "       5.51186453, 6.21318891, 5.72858176, 5.01795434, 6.04093924,\n",
       "       5.63693904, 5.38788218, 6.370331  , 6.11535263, 5.15487793,\n",
       "       5.35034932, 5.74257747, 5.36066499, 5.7975798 , 6.82887991,\n",
       "       6.02827721, 6.10576624, 5.59522877, 4.98036724, 5.91839067,\n",
       "       6.8912958 , 5.26600939, 5.84820906, 6.02193464, 4.97473225,\n",
       "       5.2744473 , 5.56775491, 6.16750405, 6.09623754, 5.86324284,\n",
       "       5.32868597, 5.39023451, 5.07500474, 5.33965508, 5.06295528,\n",
       "       5.81617337, 5.68216518, 5.38564598, 6.24209535, 5.66039684,\n",
       "       5.73004763, 5.5694348 , 6.3409407 , 5.04858128, 5.37314434,\n",
       "       5.57554754, 5.43785847, 5.57699657, 5.47746042, 5.20902462,\n",
       "       5.68334906, 5.60806605, 5.80144937, 5.21155252, 5.79155477,\n",
       "       6.18214381, 5.57645622, 5.8388523 , 6.1747394 , 6.41955885,\n",
       "       6.0435481 , 5.98599983, 5.26455889, 5.43111904, 6.08833642,\n",
       "       5.00519145, 5.31332137, 6.60271873, 5.54227747, 5.46613741,\n",
       "       5.65274122, 5.03817747, 6.37122474, 6.33666386, 5.82816034,\n",
       "       5.01724686, 5.51934349, 5.32790157, 6.16527553, 5.41596323,\n",
       "       4.97022888, 6.50239453, 5.87294794, 5.13973613, 4.51596226,\n",
       "       5.46449032, 6.16584209, 5.26672774, 5.16246113, 5.36242289,\n",
       "       5.59155903, 5.60313636, 5.45093617, 5.99654608, 5.55098515,\n",
       "       5.13668141, 5.67195927, 6.11128717, 5.7975798 , 6.46861391,\n",
       "       5.87131812, 4.65909671, 5.16940719, 5.31258614, 5.09795096,\n",
       "       5.0822165 , 5.40586987, 5.56605561, 5.88842036, 5.78575796,\n",
       "       5.12419406, 5.34302643, 6.42978868, 5.6448552 , 6.50151598,\n",
       "       5.76681101, 6.25066738, 5.21854507, 5.80865589, 6.49340018,\n",
       "       6.03885458, 5.70809208, 5.54650868, 6.00306584, 5.23489977,\n",
       "       5.57648519, 6.49060071, 5.17557156, 6.30386355, 5.68899072,\n",
       "       6.24465786, 5.95013061, 5.13980677, 5.33452716, 5.7787384 ,\n",
       "       5.80387279, 5.22611258, 4.93812026, 5.06490879, 5.22694865,\n",
       "       5.1026404 , 5.15767835, 6.16678576, 6.29035654, 5.85666971,\n",
       "       5.62761958, 6.21261718, 5.01436479, 5.51593572, 5.38825553,\n",
       "       6.57412255, 6.06191682, 6.18735202, 5.41240357, 5.7174523 ,\n",
       "       5.83569274, 6.4415498 , 5.71509596, 6.09106272, 5.06806897,\n",
       "       5.77526688, 5.00562952, 5.43295755, 5.26062937, 5.01189686,\n",
       "       6.4374695 , 6.16862833, 5.36326349, 5.94217186, 6.39207712,\n",
       "       4.82364212, 4.91276798, 5.63250403, 5.41240357, 5.26995767,\n",
       "       5.48320999, 5.74380418, 5.00936507, 5.04996531, 4.86444667,\n",
       "       4.42315567, 5.20612883, 4.93260308, 6.16633555, 5.50202499,\n",
       "       6.38288629, 6.18874001, 5.44361067, 5.06876793, 4.99448086,\n",
       "       5.23615037, 5.08457133, 5.43295755, 5.42372443, 5.04990932,\n",
       "       4.83373934, 5.17224317, 5.7288756 , 6.56116626, 6.28440336,\n",
       "       6.05089683, 5.92881486, 5.76386385, 6.07305548, 5.56605561,\n",
       "       5.17006774, 5.31913271, 5.35074868, 4.99601754, 5.24289774,\n",
       "       6.20229387, 6.10651507, 6.31465565, 5.90156249, 5.08229807,\n",
       "       5.1328257 , 5.19185918, 6.53358391, 5.41917009, 5.61554722,\n",
       "       5.55559234, 5.59708963, 5.05824481, 4.9625136 , 5.80489794,\n",
       "       6.25223345, 5.60066341, 5.2680619 , 6.46097384, 5.78628303])"
      ]
     },
     "execution_count": 9,
     "metadata": {},
     "output_type": "execute_result"
    }
   ],
   "source": [
    "y_pred = model.predict(X_test)\n",
    "y_pred"
   ]
  },
  {
   "cell_type": "code",
   "execution_count": 10,
   "id": "3a07a764",
   "metadata": {},
   "outputs": [
    {
     "name": "stdout",
     "output_type": "stream",
     "text": [
      "[ 2.72432239e-02 -1.03435127e+00 -1.74033092e-01  1.51390982e-02\n",
      " -1.81062782e+00  4.22993833e-03 -3.29586903e-03 -1.71297726e+01\n",
      " -3.93833264e-01  8.33810797e-01  2.71436753e-01]\n"
     ]
    }
   ],
   "source": [
    "print(model.coef_)"
   ]
  },
  {
   "cell_type": "code",
   "execution_count": 11,
   "id": "b2d06e62",
   "metadata": {},
   "outputs": [
    {
     "name": "stdout",
     "output_type": "stream",
     "text": [
      "21.201403252115934\n"
     ]
    }
   ],
   "source": [
    "print(model.intercept_)"
   ]
  },
  {
   "cell_type": "code",
   "execution_count": 12,
   "id": "92f63a8f",
   "metadata": {},
   "outputs": [
    {
     "data": {
      "text/plain": [
       "0.41833853912502783"
      ]
     },
     "execution_count": 12,
     "metadata": {},
     "output_type": "execute_result"
    }
   ],
   "source": [
    "from sklearn.metrics import r2_score\n",
    "r2_score(y_test, y_pred)"
   ]
  },
  {
   "cell_type": "code",
   "execution_count": 13,
   "id": "2853a504",
   "metadata": {},
   "outputs": [],
   "source": [
    "#Note that with 0.3 and 100 parameters in Training, score decreases by 10%"
   ]
  },
  {
   "cell_type": "code",
   "execution_count": 14,
   "id": "f1f098cd",
   "metadata": {},
   "outputs": [
    {
     "data": {
      "text/plain": [
       "<matplotlib.collections.PathCollection at 0x25134eb99a0>"
      ]
     },
     "execution_count": 14,
     "metadata": {},
     "output_type": "execute_result"
    },
    {
     "data": {
      "image/png": "[encoded data removed]",
      "text/plain": [
       "<Figure size 640x480 with 1 Axes>"
      ]
     },
     "metadata": {},
     "output_type": "display_data"
    }
   ],
   "source": [
    "#Logistic Regression\n",
    "plt.scatter(wine_data.density,wine_data.quality,marker='*',color='red')"
   ]
  },
  {
   "cell_type": "code",
   "execution_count": 15,
   "id": "b9dd0f29",
   "metadata": {},
   "outputs": [],
   "source": [
    "scaler = StandardScaler()\n",
    "X_train = scaler.fit_transform(X_train)\n",
    "X_test = scaler.transform(X_test)"
   ]
  },
  {
   "cell_type": "code",
   "execution_count": 16,
   "id": "c443e3cb",
   "metadata": {},
   "outputs": [
    {
     "data": {
      "text/plain": [
       "LogisticRegression(random_state=40)"
      ]
     },
     "execution_count": 16,
     "metadata": {},
     "output_type": "execute_result"
    }
   ],
   "source": [
    "model = LogisticRegression(random_state=40)\n",
    "model.fit(X_train, y_train)"
   ]
  },
  {
   "cell_type": "code",
   "execution_count": 17,
   "id": "3570e501",
   "metadata": {},
   "outputs": [
    {
     "data": {
      "text/plain": [
       "array([[6.44987976e-04, 1.80038302e-02, 1.97928182e-01, 5.97638974e-01,\n",
       "        1.79775414e-01, 6.00861154e-03],\n",
       "       [3.95360684e-05, 3.90960153e-03, 8.59693312e-01, 1.31185709e-01,\n",
       "        5.10735844e-03, 6.44826752e-05],\n",
       "       [4.04777079e-03, 4.10407199e-02, 3.50122146e-01, 5.21836336e-01,\n",
       "        7.98537390e-02, 3.09928787e-03],\n",
       "       ...,\n",
       "       [3.85104787e-04, 9.46505676e-03, 7.50698890e-01, 2.31955881e-01,\n",
       "        7.41291831e-03, 8.21485907e-05],\n",
       "       [7.37494802e-05, 2.47656955e-03, 4.52567353e-02, 4.67614439e-01,\n",
       "        4.66348591e-01, 1.82299157e-02],\n",
       "       [2.46087103e-03, 7.28940926e-02, 1.92830968e-01, 5.88265536e-01,\n",
       "        1.39869296e-01, 3.67923632e-03]])"
      ]
     },
     "execution_count": 17,
     "metadata": {},
     "output_type": "execute_result"
    }
   ],
   "source": [
    "y_predicted = model.predict(X_test)\n",
    "model.predict_proba(X_test)"
   ]
  },
  {
   "cell_type": "code",
   "execution_count": 18,
   "id": "4497050d",
   "metadata": {},
   "outputs": [
    {
     "data": {
      "text/plain": [
       "0.6125"
      ]
     },
     "execution_count": 18,
     "metadata": {},
     "output_type": "execute_result"
    }
   ],
   "source": [
    "model.score(X_test,y_test)"
   ]
  },
  {
   "cell_type": "code",
   "execution_count": null,
   "id": "a3a4b0f4",
   "metadata": {},
   "outputs": [],
   "source": []
  },
  {
   "cell_type": "code",
   "execution_count": 19,
   "id": "b0ef2313",
   "metadata": {},
   "outputs": [
    {
     "data": {
      "text/plain": [
       "KNeighborsClassifier(metric='euclidean')"
      ]
     },
     "execution_count": 19,
     "metadata": {},
     "output_type": "execute_result"
    }
   ],
   "source": [
    "#KNN\n",
    "knn = KNeighborsClassifier(n_neighbors=5, p=2, metric='euclidean')\n",
    "knn.fit(X_train, y_train)"
   ]
  },
  {
   "cell_type": "code",
   "execution_count": 22,
   "id": "830be4ec",
   "metadata": {},
   "outputs": [
    {
     "name": "stderr",
     "output_type": "stream",
     "text": [
      "C:\\ProgramData\\Anaconda3\\lib\\site-packages\\sklearn\\neighbors\\_classification.py:228: FutureWarning: Unlike other reduction functions (e.g. `skew`, `kurtosis`), the default behavior of `mode` typically preserves the axis it acts along. In SciPy 1.11.0, this behavior will change: the default value of `keepdims` will become False, the `axis` over which the statistic is taken will be eliminated, and the value None will no longer be accepted. Set `keepdims` to True or False to avoid this warning.\n",
      "  mode, _ = stats.mode(_y[neigh_ind, k], axis=1)\n"
     ]
    },
    {
     "data": {
      "text/plain": [
       "array([[ 0,  2,  0,  1,  0,  0],\n",
       "       [ 0,  1,  6,  1,  0,  0],\n",
       "       [ 0,  4, 95, 36,  1,  0],\n",
       "       [ 0,  1, 34, 77, 12,  1],\n",
       "       [ 0,  0,  6, 23, 13,  0],\n",
       "       [ 0,  0,  1,  3,  2,  0]], dtype=int64)"
      ]
     },
     "execution_count": 22,
     "metadata": {},
     "output_type": "execute_result"
    }
   ],
   "source": [
    "from sklearn.metrics import confusion_matrix\n",
    "y_pred = knn.predict(X_test)\n",
    "cm = confusion_matrix(y_test, y_pred)\n",
    "cm"
   ]
  },
  {
   "cell_type": "code",
   "execution_count": 59,
   "id": "fda36c4b",
   "metadata": {},
   "outputs": [
    {
     "name": "stderr",
     "output_type": "stream",
     "text": [
      "C:\\ProgramData\\Anaconda3\\lib\\site-packages\\sklearn\\neighbors\\_classification.py:228: FutureWarning: Unlike other reduction functions (e.g. `skew`, `kurtosis`), the default behavior of `mode` typically preserves the axis it acts along. In SciPy 1.11.0, this behavior will change: the default value of `keepdims` will become False, the `axis` over which the statistic is taken will be eliminated, and the value None will no longer be accepted. Set `keepdims` to True or False to avoid this warning.\n",
      "  mode, _ = stats.mode(_y[neigh_ind, k], axis=1)\n"
     ]
    },
    {
     "data": {
      "text/plain": [
       "0.58125"
      ]
     },
     "execution_count": 59,
     "metadata": {},
     "output_type": "execute_result"
    }
   ],
   "source": [
    "accuracy = knn.score(X_test, y_test)\n",
    "accuracy"
   ]
  },
  {
   "cell_type": "code",
   "execution_count": 60,
   "id": "32a6397d",
   "metadata": {},
   "outputs": [
    {
     "name": "stderr",
     "output_type": "stream",
     "text": [
      "C:\\ProgramData\\Anaconda3\\lib\\site-packages\\sklearn\\neighbors\\_classification.py:228: FutureWarning: Unlike other reduction functions (e.g. `skew`, `kurtosis`), the default behavior of `mode` typically preserves the axis it acts along. In SciPy 1.11.0, this behavior will change: the default value of `keepdims` will become False, the `axis` over which the statistic is taken will be eliminated, and the value None will no longer be accepted. Set `keepdims` to True or False to avoid this warning.\n",
      "  mode, _ = stats.mode(_y[neigh_ind, k], axis=1)\n"
     ]
    },
    {
     "data": {
      "text/plain": [
       "0.625"
      ]
     },
     "execution_count": 60,
     "metadata": {},
     "output_type": "execute_result"
    }
   ],
   "source": [
    "knn = KNeighborsClassifier(n_neighbors=10, p=2, metric='euclidean')\n",
    "knn.fit(X_train, y_train)\n",
    "accuracy = knn.score(X_test, y_test)\n",
    "accuracy"
   ]
  },
  {
   "cell_type": "code",
   "execution_count": 61,
   "id": "0e83600f",
   "metadata": {},
   "outputs": [
    {
     "name": "stderr",
     "output_type": "stream",
     "text": [
      "C:\\ProgramData\\Anaconda3\\lib\\site-packages\\sklearn\\neighbors\\_classification.py:228: FutureWarning: Unlike other reduction functions (e.g. `skew`, `kurtosis`), the default behavior of `mode` typically preserves the axis it acts along. In SciPy 1.11.0, this behavior will change: the default value of `keepdims` will become False, the `axis` over which the statistic is taken will be eliminated, and the value None will no longer be accepted. Set `keepdims` to True or False to avoid this warning.\n",
      "  mode, _ = stats.mode(_y[neigh_ind, k], axis=1)\n"
     ]
    },
    {
     "data": {
      "text/plain": [
       "0.63125"
      ]
     },
     "execution_count": 61,
     "metadata": {},
     "output_type": "execute_result"
    }
   ],
   "source": [
    "knn = KNeighborsClassifier(n_neighbors=16, p=2, metric='euclidean')\n",
    "knn.fit(X_train, y_train)\n",
    "accuracy = knn.score(X_test, y_test)\n",
    "accuracy"
   ]
  },
  {
   "cell_type": "code",
   "execution_count": 62,
   "id": "57f6ec72",
   "metadata": {},
   "outputs": [
    {
     "name": "stderr",
     "output_type": "stream",
     "text": [
      "C:\\ProgramData\\Anaconda3\\lib\\site-packages\\sklearn\\neighbors\\_classification.py:228: FutureWarning: Unlike other reduction functions (e.g. `skew`, `kurtosis`), the default behavior of `mode` typically preserves the axis it acts along. In SciPy 1.11.0, this behavior will change: the default value of `keepdims` will become False, the `axis` over which the statistic is taken will be eliminated, and the value None will no longer be accepted. Set `keepdims` to True or False to avoid this warning.\n",
      "  mode, _ = stats.mode(_y[neigh_ind, k], axis=1)\n"
     ]
    },
    {
     "data": {
      "text/plain": [
       "0.646875"
      ]
     },
     "execution_count": 62,
     "metadata": {},
     "output_type": "execute_result"
    }
   ],
   "source": [
    "knn = KNeighborsClassifier(n_neighbors=12, p=2, metric='euclidean')\n",
    "knn.fit(X_train, y_train)\n",
    "accuracy = knn.score(X_test, y_test)\n",
    "accuracy"
   ]
  },
  {
   "cell_type": "code",
   "execution_count": null,
   "id": "a3a0917b",
   "metadata": {},
   "outputs": [],
   "source": []
  }
 ],
 "metadata": {
  "kernelspec": {
   "display_name": "Python 3 (ipykernel)",
   "language": "python",
   "name": "python3"
  },
  "language_info": {
   "codemirror_mode": {
    "name": "ipython",
    "version": 3
   },
   "file_extension": ".py",
   "mimetype": "text/x-python",
   "name": "python",
   "nbconvert_exporter": "python",
   "pygments_lexer": "ipython3",
   "version": "3.9.13"
  }
 },
 "nbformat": 4,
 "nbformat_minor": 5
}
