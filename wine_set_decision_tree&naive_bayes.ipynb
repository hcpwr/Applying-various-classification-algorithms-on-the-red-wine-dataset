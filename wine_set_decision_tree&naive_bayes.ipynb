{
 "cells": [
  {
   "cell_type": "code",
   "execution_count": 1,
   "id": "d456de4e",
   "metadata": {},
   "outputs": [],
   "source": [
    "import numpy as np\n",
    "import pandas as pd\n",
    "from sklearn.model_selection import train_test_split\n",
    "from sklearn.tree import DecisionTreeClassifier\n",
    "from sklearn.metrics import accuracy_score\n",
    "from sklearn import tree\n",
    "from sklearn.naive_bayes import GaussianNB\n",
    "from sklearn.preprocessing import StandardScaler"
   ]
  },
  {
   "cell_type": "code",
   "execution_count": 2,
   "id": "2ab3d0ad",
   "metadata": {},
   "outputs": [
    {
     "data": {
      "text/html": [
       "<div>\n",
       "<style scoped>\n",
       "    .dataframe tbody tr th:only-of-type {\n",
       "        vertical-align: middle;\n",
       "    }\n",
       "\n",
       "    .dataframe tbody tr th {\n",
       "        vertical-align: top;\n",
       "    }\n",
       "\n",
       "    .dataframe thead th {\n",
       "        text-align: right;\n",
       "    }\n",
       "</style>\n",
       "<table border=\"1\" class=\"dataframe\">\n",
       "  <thead>\n",
       "    <tr style=\"text-align: right;\">\n",
       "      <th></th>\n",
       "      <th>fixed_acidity</th>\n",
       "      <th>volatile_acidity</th>\n",
       "      <th>citric_acid</th>\n",
       "      <th>residual_sugar</th>\n",
       "      <th>chlorides</th>\n",
       "      <th>free_sulfur_dioxide</th>\n",
       "      <th>total_sulfur_dioxide</th>\n",
       "      <th>density</th>\n",
       "      <th>pH</th>\n",
       "      <th>sulphates</th>\n",
       "      <th>alcohol</th>\n",
       "      <th>quality</th>\n",
       "    </tr>\n",
       "  </thead>\n",
       "  <tbody>\n",
       "    <tr>\n",
       "      <th>0</th>\n",
       "      <td>7.4</td>\n",
       "      <td>0.700</td>\n",
       "      <td>0.00</td>\n",
       "      <td>1.9</td>\n",
       "      <td>0.076</td>\n",
       "      <td>11.0</td>\n",
       "      <td>34.0</td>\n",
       "      <td>0.99780</td>\n",
       "      <td>3.51</td>\n",
       "      <td>0.56</td>\n",
       "      <td>9.4</td>\n",
       "      <td>5</td>\n",
       "    </tr>\n",
       "    <tr>\n",
       "      <th>1</th>\n",
       "      <td>7.8</td>\n",
       "      <td>0.880</td>\n",
       "      <td>0.00</td>\n",
       "      <td>2.6</td>\n",
       "      <td>0.098</td>\n",
       "      <td>25.0</td>\n",
       "      <td>67.0</td>\n",
       "      <td>0.99680</td>\n",
       "      <td>3.20</td>\n",
       "      <td>0.68</td>\n",
       "      <td>9.8</td>\n",
       "      <td>5</td>\n",
       "    </tr>\n",
       "    <tr>\n",
       "      <th>2</th>\n",
       "      <td>7.8</td>\n",
       "      <td>0.760</td>\n",
       "      <td>0.04</td>\n",
       "      <td>2.3</td>\n",
       "      <td>0.092</td>\n",
       "      <td>15.0</td>\n",
       "      <td>54.0</td>\n",
       "      <td>0.99700</td>\n",
       "      <td>3.26</td>\n",
       "      <td>0.65</td>\n",
       "      <td>9.8</td>\n",
       "      <td>5</td>\n",
       "    </tr>\n",
       "    <tr>\n",
       "      <th>3</th>\n",
       "      <td>11.2</td>\n",
       "      <td>0.280</td>\n",
       "      <td>0.56</td>\n",
       "      <td>1.9</td>\n",
       "      <td>0.075</td>\n",
       "      <td>17.0</td>\n",
       "      <td>60.0</td>\n",
       "      <td>0.99800</td>\n",
       "      <td>3.16</td>\n",
       "      <td>0.58</td>\n",
       "      <td>9.8</td>\n",
       "      <td>6</td>\n",
       "    </tr>\n",
       "    <tr>\n",
       "      <th>4</th>\n",
       "      <td>7.4</td>\n",
       "      <td>0.700</td>\n",
       "      <td>0.00</td>\n",
       "      <td>1.9</td>\n",
       "      <td>0.076</td>\n",
       "      <td>11.0</td>\n",
       "      <td>34.0</td>\n",
       "      <td>0.99780</td>\n",
       "      <td>3.51</td>\n",
       "      <td>0.56</td>\n",
       "      <td>9.4</td>\n",
       "      <td>5</td>\n",
       "    </tr>\n",
       "    <tr>\n",
       "      <th>...</th>\n",
       "      <td>...</td>\n",
       "      <td>...</td>\n",
       "      <td>...</td>\n",
       "      <td>...</td>\n",
       "      <td>...</td>\n",
       "      <td>...</td>\n",
       "      <td>...</td>\n",
       "      <td>...</td>\n",
       "      <td>...</td>\n",
       "      <td>...</td>\n",
       "      <td>...</td>\n",
       "      <td>...</td>\n",
       "    </tr>\n",
       "    <tr>\n",
       "      <th>1594</th>\n",
       "      <td>6.2</td>\n",
       "      <td>0.600</td>\n",
       "      <td>0.08</td>\n",
       "      <td>2.0</td>\n",
       "      <td>0.090</td>\n",
       "      <td>32.0</td>\n",
       "      <td>44.0</td>\n",
       "      <td>0.99490</td>\n",
       "      <td>3.45</td>\n",
       "      <td>0.58</td>\n",
       "      <td>10.5</td>\n",
       "      <td>5</td>\n",
       "    </tr>\n",
       "    <tr>\n",
       "      <th>1595</th>\n",
       "      <td>5.9</td>\n",
       "      <td>0.550</td>\n",
       "      <td>0.10</td>\n",
       "      <td>2.2</td>\n",
       "      <td>0.062</td>\n",
       "      <td>39.0</td>\n",
       "      <td>51.0</td>\n",
       "      <td>0.99512</td>\n",
       "      <td>3.52</td>\n",
       "      <td>0.76</td>\n",
       "      <td>11.2</td>\n",
       "      <td>6</td>\n",
       "    </tr>\n",
       "    <tr>\n",
       "      <th>1596</th>\n",
       "      <td>6.3</td>\n",
       "      <td>0.510</td>\n",
       "      <td>0.13</td>\n",
       "      <td>2.3</td>\n",
       "      <td>0.076</td>\n",
       "      <td>29.0</td>\n",
       "      <td>40.0</td>\n",
       "      <td>0.99574</td>\n",
       "      <td>3.42</td>\n",
       "      <td>0.75</td>\n",
       "      <td>11.0</td>\n",
       "      <td>6</td>\n",
       "    </tr>\n",
       "    <tr>\n",
       "      <th>1597</th>\n",
       "      <td>5.9</td>\n",
       "      <td>0.645</td>\n",
       "      <td>0.12</td>\n",
       "      <td>2.0</td>\n",
       "      <td>0.075</td>\n",
       "      <td>32.0</td>\n",
       "      <td>44.0</td>\n",
       "      <td>0.99547</td>\n",
       "      <td>3.57</td>\n",
       "      <td>0.71</td>\n",
       "      <td>10.2</td>\n",
       "      <td>5</td>\n",
       "    </tr>\n",
       "    <tr>\n",
       "      <th>1598</th>\n",
       "      <td>6.0</td>\n",
       "      <td>0.310</td>\n",
       "      <td>0.47</td>\n",
       "      <td>3.6</td>\n",
       "      <td>0.067</td>\n",
       "      <td>18.0</td>\n",
       "      <td>42.0</td>\n",
       "      <td>0.99549</td>\n",
       "      <td>3.39</td>\n",
       "      <td>0.66</td>\n",
       "      <td>11.0</td>\n",
       "      <td>6</td>\n",
       "    </tr>\n",
       "  </tbody>\n",
       "</table>\n",
       "<p>1599 rows × 12 columns</p>\n",
       "</div>"
      ],
      "text/plain": [
       "      fixed_acidity  volatile_acidity  citric_acid  residual_sugar  chlorides  \\\n",
       "0               7.4             0.700         0.00             1.9      0.076   \n",
       "1               7.8             0.880         0.00             2.6      0.098   \n",
       "2               7.8             0.760         0.04             2.3      0.092   \n",
       "3              11.2             0.280         0.56             1.9      0.075   \n",
       "4               7.4             0.700         0.00             1.9      0.076   \n",
       "...             ...               ...          ...             ...        ...   \n",
       "1594            6.2             0.600         0.08             2.0      0.090   \n",
       "1595            5.9             0.550         0.10             2.2      0.062   \n",
       "1596            6.3             0.510         0.13             2.3      0.076   \n",
       "1597            5.9             0.645         0.12             2.0      0.075   \n",
       "1598            6.0             0.310         0.47             3.6      0.067   \n",
       "\n",
       "      free_sulfur_dioxide  total_sulfur_dioxide  density    pH  sulphates  \\\n",
       "0                    11.0                  34.0  0.99780  3.51       0.56   \n",
       "1                    25.0                  67.0  0.99680  3.20       0.68   \n",
       "2                    15.0                  54.0  0.99700  3.26       0.65   \n",
       "3                    17.0                  60.0  0.99800  3.16       0.58   \n",
       "4                    11.0                  34.0  0.99780  3.51       0.56   \n",
       "...                   ...                   ...      ...   ...        ...   \n",
       "1594                 32.0                  44.0  0.99490  3.45       0.58   \n",
       "1595                 39.0                  51.0  0.99512  3.52       0.76   \n",
       "1596                 29.0                  40.0  0.99574  3.42       0.75   \n",
       "1597                 32.0                  44.0  0.99547  3.57       0.71   \n",
       "1598                 18.0                  42.0  0.99549  3.39       0.66   \n",
       "\n",
       "      alcohol  quality  \n",
       "0         9.4        5  \n",
       "1         9.8        5  \n",
       "2         9.8        5  \n",
       "3         9.8        6  \n",
       "4         9.4        5  \n",
       "...       ...      ...  \n",
       "1594     10.5        5  \n",
       "1595     11.2        6  \n",
       "1596     11.0        6  \n",
       "1597     10.2        5  \n",
       "1598     11.0        6  \n",
       "\n",
       "[1599 rows x 12 columns]"
      ]
     },
     "execution_count": 2,
     "metadata": {},
     "output_type": "execute_result"
    }
   ],
   "source": [
    "wine_data = pd.read_csv('https://raw.githubusercontent.com/hcpwr/wine_dataset/main/winequality-red.csv')\n",
    "wine_data"
   ]
  },
  {
   "cell_type": "code",
   "execution_count": 3,
   "id": "34be1ebd",
   "metadata": {},
   "outputs": [],
   "source": [
    "X = wine_data.iloc[:, 0:11].values\n",
    "Y = wine_data.iloc[:,11].values"
   ]
  },
  {
   "cell_type": "code",
   "execution_count": 4,
   "id": "dfeaa4f5",
   "metadata": {},
   "outputs": [],
   "source": [
    "X_train, X_test, y_train, y_test = train_test_split( X, Y, test_size = 0.3, random_state = 100)"
   ]
  },
  {
   "cell_type": "code",
   "execution_count": 5,
   "id": "e58e87fc",
   "metadata": {},
   "outputs": [
    {
     "data": {
      "text/plain": [
       "DecisionTreeClassifier(criterion='entropy', max_depth=3, min_samples_leaf=5,\n",
       "                       random_state=100)"
      ]
     },
     "execution_count": 5,
     "metadata": {},
     "output_type": "execute_result"
    }
   ],
   "source": [
    "clf_entropy = DecisionTreeClassifier(criterion = \"entropy\", random_state = 100,\n",
    " max_depth=3, min_samples_leaf=5)\n",
    "clf_entropy.fit(X_train, y_train)"
   ]
  },
  {
   "cell_type": "code",
   "execution_count": 6,
   "id": "ed7b7746",
   "metadata": {},
   "outputs": [
    {
     "data": {
      "text/plain": [
       "array([6, 6, 5, 5, 6, 7, 5, 6, 6, 6, 7, 5, 6, 5, 6, 5, 6, 5, 6, 5, 6, 5,\n",
       "       6, 7, 6, 7, 6, 3, 6, 6, 6, 5, 6, 6, 5, 6, 5, 5, 5, 5, 5, 6, 6, 6,\n",
       "       6, 5, 6, 6, 5, 6, 5, 5, 6, 6, 6, 6, 6, 6, 5, 5, 7, 6, 6, 7, 5, 5,\n",
       "       6, 5, 5, 6, 5, 7, 7, 6, 6, 6, 6, 6, 6, 6, 6, 6, 6, 6, 6, 5, 6, 5,\n",
       "       5, 6, 6, 6, 6, 5, 7, 5, 5, 6, 5, 6, 6, 6, 6, 5, 5, 6, 5, 6, 5, 5,\n",
       "       5, 6, 7, 5, 7, 7, 5, 5, 6, 6, 5, 6, 6, 7, 7, 6, 6, 5, 5, 5, 6, 6,\n",
       "       5, 6, 7, 5, 7, 6, 5, 6, 5, 5, 7, 6, 6, 6, 6, 5, 7, 5, 5, 6, 6, 5,\n",
       "       6, 6, 6, 6, 6, 6, 6, 6, 6, 5, 7, 6, 6, 5, 5, 6, 5, 6, 5, 6, 6, 5,\n",
       "       5, 6, 6, 6, 5, 5, 5, 5, 6, 5, 6, 6, 7, 5, 6, 5, 6, 7, 5, 5, 6, 6,\n",
       "       6, 6, 6, 6, 6, 6, 5, 6, 6, 6, 6, 5, 5, 6, 6, 5, 5, 5, 6, 6, 5, 6,\n",
       "       5, 5, 5, 5, 7, 5, 5, 7, 6, 5, 5, 5, 5, 7, 7, 5, 6, 5, 6, 5, 5, 5,\n",
       "       5, 6, 5, 5, 5, 7, 5, 6, 6, 6, 7, 6, 6, 6, 6, 6, 5, 5, 5, 5, 5, 6,\n",
       "       5, 6, 5, 6, 5, 6, 5, 6, 7, 6, 6, 5, 6, 6, 5, 6, 5, 6, 6, 6, 5, 5,\n",
       "       7, 6, 6, 5, 6, 6, 6, 6, 6, 5, 6, 6, 6, 6, 5, 5, 6, 6, 5, 6, 5, 6,\n",
       "       5, 6, 5, 5, 5, 6, 6, 6, 6, 6, 6, 5, 5, 5, 5, 6, 6, 6, 5, 6, 6, 5,\n",
       "       6, 6, 7, 6, 5, 6, 6, 6, 5, 6, 6, 6, 6, 6, 6, 5, 5, 5, 6, 5, 6, 5,\n",
       "       7, 6, 5, 7, 6, 5, 5, 6, 6, 6, 7, 5, 5, 6, 5, 7, 6, 5, 5, 5, 6, 5,\n",
       "       6, 5, 6, 6, 5, 6, 6, 6, 6, 5, 5, 6, 6, 5, 6, 6, 7, 6, 6, 5, 6, 6,\n",
       "       5, 5, 5, 6, 7, 5, 5, 6, 7, 6, 6, 5, 5, 5, 7, 6, 5, 7, 5, 5, 7, 5,\n",
       "       6, 5, 5, 6, 6, 5, 6, 5, 7, 5, 5, 6, 5, 5, 7, 5, 5, 6, 5, 5, 6, 6,\n",
       "       5, 6, 5, 6, 5, 5, 5, 6, 6, 7, 5, 5, 6, 6, 5, 6, 6, 6, 6, 5, 5, 5,\n",
       "       7, 6, 6, 5, 5, 5, 6, 6, 7, 6, 6, 5, 5, 6, 5, 6, 6, 5], dtype=int64)"
      ]
     },
     "execution_count": 6,
     "metadata": {},
     "output_type": "execute_result"
    }
   ],
   "source": [
    "y_pred_en = clf_entropy.predict(X_test)\n",
    "y_pred_en"
   ]
  },
  {
   "cell_type": "code",
   "execution_count": 7,
   "id": "a7ce8039",
   "metadata": {},
   "outputs": [],
   "source": [
    "score = accuracy_score(y_test, y_pred_en)"
   ]
  },
  {
   "cell_type": "code",
   "execution_count": 10,
   "id": "fee5e749",
   "metadata": {},
   "outputs": [
    {
     "data": {
      "text/plain": [
       "0.575"
      ]
     },
     "execution_count": 10,
     "metadata": {},
     "output_type": "execute_result"
    }
   ],
   "source": [
    "score"
   ]
  },
  {
   "cell_type": "code",
   "execution_count": 19,
   "id": "d7e7b4ab",
   "metadata": {},
   "outputs": [],
   "source": [
    "X_train, X_test, y_train, y_test = train_test_split( X, Y, test_size = 0.5, random_state = 100)"
   ]
  },
  {
   "cell_type": "code",
   "execution_count": 20,
   "id": "9c908874",
   "metadata": {},
   "outputs": [
    {
     "data": {
      "text/plain": [
       "DecisionTreeClassifier(criterion='entropy', max_depth=3, min_samples_leaf=5,\n",
       "                       random_state=100)"
      ]
     },
     "execution_count": 20,
     "metadata": {},
     "output_type": "execute_result"
    }
   ],
   "source": [
    "clf_entropy = DecisionTreeClassifier(criterion = \"entropy\", random_state = 100,\n",
    " max_depth=3, min_samples_leaf=5)\n",
    "clf_entropy.fit(X_train, y_train)"
   ]
  },
  {
   "cell_type": "code",
   "execution_count": 21,
   "id": "154cc681",
   "metadata": {
    "scrolled": false
   },
   "outputs": [
    {
     "data": {
      "text/plain": [
       "array([5, 7, 5, 5, 6, 7, 5, 6, 7, 6, 7, 5, 6, 5, 6, 5, 6, 5, 6, 5, 6, 5,\n",
       "       6, 6, 7, 7, 6, 6, 5, 6, 6, 5, 6, 6, 5, 6, 5, 5, 5, 5, 5, 7, 6, 6,\n",
       "       6, 5, 6, 7, 5, 6, 6, 5, 6, 6, 6, 7, 6, 6, 5, 5, 7, 6, 6, 7, 5, 5,\n",
       "       6, 5, 5, 6, 5, 6, 6, 6, 6, 6, 6, 6, 6, 6, 6, 6, 6, 6, 6, 6, 6, 5,\n",
       "       5, 6, 7, 6, 6, 5, 7, 5, 5, 5, 5, 6, 6, 6, 6, 5, 5, 7, 5, 6, 5, 5,\n",
       "       5, 5, 7, 5, 7, 6, 5, 5, 6, 6, 5, 6, 7, 7, 7, 5, 6, 5, 5, 5, 6, 6,\n",
       "       5, 6, 7, 5, 7, 7, 5, 6, 5, 5, 7, 6, 5, 5, 6, 5, 7, 5, 5, 6, 6, 5,\n",
       "       6, 5, 6, 5, 7, 6, 5, 7, 6, 5, 7, 6, 6, 5, 5, 6, 5, 6, 5, 6, 6, 5,\n",
       "       5, 7, 6, 7, 5, 5, 5, 5, 6, 5, 6, 6, 7, 5, 7, 5, 6, 7, 5, 6, 6, 6,\n",
       "       6, 5, 6, 6, 6, 5, 5, 6, 6, 6, 7, 5, 5, 7, 6, 5, 5, 5, 5, 6, 5, 5,\n",
       "       5, 5, 5, 5, 7, 5, 5, 7, 6, 6, 5, 5, 5, 7, 7, 5, 7, 5, 6, 5, 5, 5,\n",
       "       5, 6, 5, 6, 5, 7, 5, 6, 7, 6, 6, 7, 6, 6, 6, 6, 5, 5, 5, 5, 5, 6,\n",
       "       5, 6, 5, 5, 5, 6, 5, 6, 7, 7, 6, 5, 6, 6, 5, 6, 5, 5, 6, 7, 5, 5,\n",
       "       7, 6, 5, 5, 6, 6, 5, 6, 6, 5, 6, 5, 6, 6, 5, 6, 6, 6, 5, 6, 6, 6,\n",
       "       5, 6, 5, 5, 6, 6, 6, 6, 5, 6, 6, 5, 5, 5, 5, 5, 5, 6, 5, 6, 6, 5,\n",
       "       6, 6, 7, 6, 5, 6, 5, 6, 5, 7, 6, 6, 6, 7, 7, 5, 5, 5, 6, 5, 7, 5,\n",
       "       6, 6, 5, 6, 6, 5, 5, 7, 6, 6, 7, 5, 5, 6, 5, 7, 6, 5, 5, 5, 6, 5,\n",
       "       6, 5, 7, 6, 5, 6, 6, 6, 5, 5, 5, 6, 5, 5, 6, 6, 7, 6, 6, 5, 6, 6,\n",
       "       5, 5, 5, 6, 7, 5, 5, 6, 7, 6, 7, 6, 5, 5, 6, 5, 5, 6, 5, 5, 7, 5,\n",
       "       6, 5, 5, 5, 7, 5, 6, 5, 7, 5, 5, 6, 5, 5, 7, 5, 5, 6, 5, 5, 6, 5,\n",
       "       5, 6, 5, 6, 5, 5, 5, 6, 6, 7, 5, 5, 6, 6, 5, 6, 6, 6, 6, 5, 5, 5,\n",
       "       7, 6, 6, 5, 5, 6, 6, 7, 7, 7, 6, 5, 5, 7, 5, 6, 6, 5, 6, 5, 5, 5,\n",
       "       5, 6, 6, 5, 6, 6, 5, 5, 6, 5, 5, 5, 5, 7, 6, 5, 5, 5, 6, 5, 5, 5,\n",
       "       6, 6, 5, 6, 5, 5, 6, 6, 6, 5, 5, 5, 6, 6, 7, 6, 5, 5, 6, 7, 7, 6,\n",
       "       6, 6, 6, 5, 5, 6, 7, 7, 5, 5, 6, 5, 6, 6, 6, 5, 5, 5, 7, 5, 5, 6,\n",
       "       6, 6, 7, 5, 5, 5, 5, 6, 6, 5, 5, 5, 6, 5, 7, 6, 5, 6, 6, 5, 6, 6,\n",
       "       7, 5, 7, 5, 7, 5, 5, 5, 5, 7, 6, 5, 7, 7, 5, 5, 6, 5, 6, 6, 5, 6,\n",
       "       6, 5, 5, 6, 5, 5, 7, 5, 6, 5, 5, 5, 6, 5, 6, 6, 5, 6, 6, 5, 5, 6,\n",
       "       6, 6, 5, 6, 5, 6, 7, 5, 5, 5, 5, 5, 6, 6, 5, 6, 5, 6, 6, 6, 6, 6,\n",
       "       5, 6, 6, 6, 5, 5, 6, 7, 5, 6, 6, 5, 5, 5, 7, 5, 6, 5, 5, 6, 5, 5,\n",
       "       6, 6, 5, 5, 5, 6, 6, 5, 5, 5, 6, 5, 6, 6, 5, 6, 5, 5, 6, 5, 5, 5,\n",
       "       5, 6, 5, 6, 5, 6, 5, 6, 6, 6, 6, 5, 6, 5, 5, 6, 5, 6, 6, 5, 6, 6,\n",
       "       5, 7, 6, 5, 7, 5, 5, 5, 6, 5, 5, 6, 5, 5, 5, 6, 6, 5, 7, 5, 5, 6,\n",
       "       5, 6, 6, 5, 5, 5, 6, 5, 6, 6, 6, 6, 6, 5, 6, 6, 5, 5, 5, 6, 6, 6,\n",
       "       7, 6, 6, 5, 5, 5, 6, 6, 6, 7, 5, 6, 5, 7, 6, 7, 5, 6, 6, 6, 5, 6,\n",
       "       5, 6, 5, 6, 6, 5, 5, 6, 7, 6, 6, 5, 5, 6, 5, 5, 5, 6, 7, 7, 7, 7,\n",
       "       6, 5, 7, 7, 5, 5, 7, 6], dtype=int64)"
      ]
     },
     "execution_count": 21,
     "metadata": {},
     "output_type": "execute_result"
    }
   ],
   "source": [
    "y_pred_en = clf_entropy.predict(X_test)\n",
    "y_pred_en"
   ]
  },
  {
   "cell_type": "code",
   "execution_count": 22,
   "id": "56bb03c5",
   "metadata": {},
   "outputs": [
    {
     "data": {
      "text/plain": [
       "0.58375"
      ]
     },
     "execution_count": 22,
     "metadata": {},
     "output_type": "execute_result"
    }
   ],
   "source": [
    "score = accuracy_score(y_test, y_pred_en)\n",
    "score"
   ]
  },
  {
   "cell_type": "code",
   "execution_count": 25,
   "id": "e82e85c1",
   "metadata": {},
   "outputs": [],
   "source": [
    "wine_data['quality'] = ['yes' if x >= 7 else 'no' for x in wine_data['quality']]"
   ]
  },
  {
   "cell_type": "code",
   "execution_count": 27,
   "id": "088bd8bc",
   "metadata": {},
   "outputs": [],
   "source": [
    "X = wine_data.iloc[:, 0:11].values\n",
    "Y = wine_data.iloc[:,11].values"
   ]
  },
  {
   "cell_type": "code",
   "execution_count": 28,
   "id": "b3a03b55",
   "metadata": {},
   "outputs": [],
   "source": [
    "X_train, X_test, y_train, y_test = train_test_split( X, Y, test_size = 0.2, random_state = 100)"
   ]
  },
  {
   "cell_type": "code",
   "execution_count": 29,
   "id": "cb2054c9",
   "metadata": {},
   "outputs": [
    {
     "data": {
      "text/plain": [
       "DecisionTreeClassifier(criterion='entropy', max_depth=3, min_samples_leaf=5,\n",
       "                       random_state=100)"
      ]
     },
     "execution_count": 29,
     "metadata": {},
     "output_type": "execute_result"
    }
   ],
   "source": [
    "clf_entropy = DecisionTreeClassifier(criterion = \"entropy\", random_state = 100,\n",
    " max_depth=3, min_samples_leaf=5)\n",
    "clf_entropy.fit(X_train, y_train)"
   ]
  },
  {
   "cell_type": "code",
   "execution_count": 30,
   "id": "aeddeb3e",
   "metadata": {},
   "outputs": [
    {
     "data": {
      "text/plain": [
       "array(['no', 'no', 'no', 'no', 'no', 'yes', 'no', 'no', 'no', 'no', 'yes',\n",
       "       'no', 'no', 'no', 'no', 'no', 'no', 'no', 'no', 'no', 'yes', 'no',\n",
       "       'no', 'yes', 'no', 'yes', 'no', 'no', 'no', 'no', 'no', 'no', 'no',\n",
       "       'yes', 'no', 'no', 'no', 'no', 'no', 'no', 'no', 'no', 'no', 'no',\n",
       "       'no', 'no', 'no', 'no', 'no', 'no', 'no', 'no', 'no', 'no', 'no',\n",
       "       'no', 'no', 'no', 'no', 'no', 'yes', 'no', 'no', 'yes', 'no', 'no',\n",
       "       'no', 'no', 'no', 'no', 'no', 'yes', 'yes', 'yes', 'no', 'no',\n",
       "       'no', 'no', 'no', 'no', 'no', 'no', 'no', 'no', 'no', 'no', 'no',\n",
       "       'no', 'no', 'no', 'no', 'no', 'no', 'no', 'yes', 'no', 'no', 'no',\n",
       "       'no', 'no', 'no', 'no', 'no', 'no', 'no', 'no', 'no', 'no', 'no',\n",
       "       'no', 'no', 'no', 'yes', 'no', 'yes', 'yes', 'no', 'no', 'no',\n",
       "       'no', 'no', 'no', 'no', 'yes', 'yes', 'no', 'no', 'no', 'no', 'no',\n",
       "       'no', 'no', 'no', 'no', 'yes', 'no', 'yes', 'no', 'no', 'no', 'no',\n",
       "       'no', 'yes', 'no', 'no', 'no', 'no', 'no', 'yes', 'no', 'no', 'no',\n",
       "       'yes', 'no', 'no', 'no', 'no', 'no', 'no', 'no', 'no', 'no', 'no',\n",
       "       'no', 'yes', 'no', 'no', 'no', 'no', 'no', 'no', 'no', 'no', 'no',\n",
       "       'no', 'no', 'no', 'no', 'no', 'no', 'no', 'no', 'no', 'no', 'no',\n",
       "       'no', 'no', 'no', 'yes', 'no', 'no', 'no', 'no', 'yes', 'no', 'no',\n",
       "       'no', 'no', 'no', 'no', 'no', 'no', 'no', 'no', 'no', 'no', 'no',\n",
       "       'no', 'no', 'no', 'no', 'no', 'no', 'no', 'no', 'no', 'no', 'no',\n",
       "       'no', 'no', 'no', 'no', 'no', 'no', 'yes', 'no', 'no', 'yes', 'no',\n",
       "       'no', 'no', 'no', 'no', 'yes', 'yes', 'no', 'no', 'no', 'no', 'no',\n",
       "       'no', 'no', 'no', 'no', 'no', 'no', 'no', 'yes', 'no', 'no', 'no',\n",
       "       'no', 'yes', 'no', 'no', 'no', 'no', 'no', 'no', 'no', 'no', 'no',\n",
       "       'no', 'no', 'no', 'no', 'no', 'no', 'no', 'no', 'no', 'no', 'yes',\n",
       "       'no', 'no', 'no', 'no', 'no', 'no', 'no', 'no', 'no', 'no', 'no',\n",
       "       'no', 'no', 'yes', 'no', 'no', 'no', 'no', 'no', 'no', 'no', 'no',\n",
       "       'no', 'no', 'no', 'no', 'no', 'no', 'no', 'no', 'no', 'no', 'no',\n",
       "       'no', 'no', 'no', 'no', 'no', 'no', 'no', 'no', 'no', 'no', 'no',\n",
       "       'no', 'no', 'no'], dtype=object)"
      ]
     },
     "execution_count": 30,
     "metadata": {},
     "output_type": "execute_result"
    }
   ],
   "source": [
    "y_pred_en = clf_entropy.predict(X_test)\n",
    "y_pred_en"
   ]
  },
  {
   "cell_type": "code",
   "execution_count": 31,
   "id": "43763511",
   "metadata": {},
   "outputs": [
    {
     "data": {
      "text/plain": [
       "0.8625"
      ]
     },
     "execution_count": 31,
     "metadata": {},
     "output_type": "execute_result"
    }
   ],
   "source": [
    "score = accuracy_score(y_test, y_pred_en)\n",
    "score"
   ]
  },
  {
   "cell_type": "code",
   "execution_count": null,
   "id": "f55a5ea8",
   "metadata": {},
   "outputs": [],
   "source": []
  },
  {
   "cell_type": "code",
   "execution_count": 32,
   "id": "21c97b16",
   "metadata": {},
   "outputs": [],
   "source": [
    "scaler = StandardScaler()\n",
    "X_train_scaled = scaler.fit_transform(X_train)\n",
    "X_test_scaled = scaler.transform(X_test)"
   ]
  },
  {
   "cell_type": "code",
   "execution_count": 33,
   "id": "53df3f3f",
   "metadata": {},
   "outputs": [
    {
     "data": {
      "text/plain": [
       "GaussianNB()"
      ]
     },
     "execution_count": 33,
     "metadata": {},
     "output_type": "execute_result"
    }
   ],
   "source": [
    "#Naive Bayes\n",
    "model = GaussianNB()\n",
    "model.fit(X_train_scaled, y_train)"
   ]
  },
  {
   "cell_type": "code",
   "execution_count": 34,
   "id": "487b9dc7",
   "metadata": {},
   "outputs": [
    {
     "data": {
      "text/plain": [
       "0.784375"
      ]
     },
     "execution_count": 34,
     "metadata": {},
     "output_type": "execute_result"
    }
   ],
   "source": [
    "y_pred = model.predict(X_test_scaled)\n",
    "accuracy = accuracy_score(y_test, y_pred)\n",
    "accuracy"
   ]
  },
  {
   "cell_type": "code",
   "execution_count": null,
   "id": "8175c530",
   "metadata": {},
   "outputs": [],
   "source": []
  }
 ],
 "metadata": {
  "kernelspec": {
   "display_name": "Python 3 (ipykernel)",
   "language": "python",
   "name": "python3"
  },
  "language_info": {
   "codemirror_mode": {
    "name": "ipython",
    "version": 3
   },
   "file_extension": ".py",
   "mimetype": "text/x-python",
   "name": "python",
   "nbconvert_exporter": "python",
   "pygments_lexer": "ipython3",
   "version": "3.9.13"
  }
 },
 "nbformat": 4,
 "nbformat_minor": 5
}
